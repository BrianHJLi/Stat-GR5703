{
 "cells": [
  {
   "cell_type": "markdown",
   "metadata": {},
   "source": [
    "# QUESTION 2\n",
    "### Wen Fan(wf2255), Banruo Xie(bx2168), Hanjun Li(hl3339)"
   ]
  },
  {
   "cell_type": "markdown",
   "metadata": {},
   "source": [
    "## 2.1\n",
    "### According to the definition of variance: \n",
    "### $Var(\\bar{X}) = E((\\bar{X})^2)- E(\\bar{X})^2$ \n",
    "### $Var(\\bar{X}) = Var(\\frac{1}{n}(X_1+X_2+...+X_{n})) = \\frac{1}{n^2}Var((X_1+X_2+...+X_{n})) $\n",
    "### $= \\frac{1}{n^2}(Var(X_1)+Var(X_2)+...+Var(X_{n})) = \\frac{Var(X)}{n} $\n",
    "### $E(\\bar{X}) = E(\\frac{1}{n}(X_1+X_2+...+X_{n})) = \\frac{1}{n}(E(X_1)+E(X_2)+...+E(X_{n})) = E(X)$ \n",
    "### Since $X \\sim Poisson(\\lambda)$, $E(X) = \\lambda$, $Var(X) = \\lambda$, \n",
    "### $Var(\\bar{X}^2) = Var(\\bar{X}) + (E(\\bar{X}))^2 = \\frac{{\\lambda}}{n}+{\\lambda}^2$"
   ]
  },
  {
   "cell_type": "markdown",
   "metadata": {},
   "source": [
    "## 2.2\n",
    "### Since $E(X^2) = Var(X) + (E(X))^2 = \\lambda + \\lambda^2$,\n",
    "### $E(s^2) = E(\\frac{1}{n-1}(\\sum_{i=1}^{n}{X_i}^2-n\\bar{X}^2)) $\n",
    "### $= \\frac{1}{n-1}(\\sum_{i=1}^{n}E((X_i)^2)-nE(\\bar{X}^2)) $\n",
    "### $= \\frac{1}{n-1}(n\\lambda + n\\lambda^2)-(\\lambda+n\\lambda^2)) = \\lambda$, Hence Proved."
   ]
  },
  {
   "cell_type": "markdown",
   "metadata": {},
   "source": [
    "## 2.3\n"
   ]
  },
  {
   "cell_type": "markdown",
   "metadata": {},
   "source": [
    "### $E({Y_i}) = E((X_i-\\lambda))^2- E(X_i) $\n",
    "### $= E((X_i)^2)-2{\\lambda}E(X_i)+\\lambda^2- E(X_i) = \\lambda +\\lambda^2-2\\lambda^2+\\lambda^2-\\lambda = 0$\n",
    "### $Var(Y_i) = E((Y_i)^2)-(E(Y_i))^2 = E((Y_i)^2) $\n",
    "### $ = E(((X_i)^2-(2{\\lambda}+1)X_i+\\lambda^2))^2 $\n",
    "### $= E((X_i)^4-4{\\lambda}{X_i}^3+6{\\lambda}^2{X_i}^2-4{\\lambda}^3{X_i}+{\\lambda}^4-2{X_i}^3+4{\\lambda}{X_i}^2-2{\\lambda}^2{X_i}+{X_i}^2)$"
   ]
  },
  {
   "cell_type": "markdown",
   "metadata": {},
   "source": [
    "### By using moment generating function of Poisson distribution:\n",
    "### $E(X)=\\lambda, E(X^2) = \\lambda^2+\\lambda, E(X^3) = \\lambda^3+3\\lambda+\\lambda$\n",
    "### $E(X^4)=\\lambda^4+6\\lambda^3+7\\lambda^2+\\lambda$"
   ]
  },
  {
   "cell_type": "markdown",
   "metadata": {},
   "source": [
    "### Plugging back to the equation, we can have: $Var(Y_i) = 2\\lambda^2 $"
   ]
  },
  {
   "cell_type": "markdown",
   "metadata": {},
   "source": [
    "## 2.4\n",
    "### $s^2-\\bar{X} = \\frac{1}{n-1}(\\sum_{i=1}^{n}{X_i}^2-n\\bar{X}^2)-\\bar{X}$\n",
    "### $= \\frac{1}{n-1}(\\sum_{i=1}^{n}({X_i}^2-2{\\lambda}X_i+\\lambda^2)+2{\\lambda}\\sum_{i=1}^{n}X_i-n\\lambda^2-n\\bar{X}^2-\\sum_{i=1}^{n}{X_i}+\\sum_{i=1}^{n}{X_i}-(n-1)\\bar{X})$\n",
    "### $= \\frac{1}{n-1}(\\sum_{i=1}^{n}{Y_i}+2{\\lambda}\\sum_{i=1}^{n}X_i-n\\lambda^2-n\\bar{X}^2+\\bar{X})$\n",
    "### $= \\frac{1}{n-1}(\\sum_{i=1}^{n}{Y_i}-n(\\bar{X}-\\lambda)^2+\\bar{X})$"
   ]
  },
  {
   "cell_type": "markdown",
   "metadata": {},
   "source": [
    "## 2.5\n",
    "### By LLN and Slutsky Theorem $ \\bar{X}-\\lambda \\xrightarrow[n->\\infty]{P} 0$, therefore, $n(\\bar{X}-\\lambda)^2\\xrightarrow[n->\\infty]{P} 0$ and $\\frac{\\bar{X}}{\\sqrt{n}}\\xrightarrow[n->\\infty]{P} 0$\n",
    "### As a result, $s^2-\\bar{X} =\\frac{1}{n-1}(\\sum_{i=1}^{n}{Y_i}-n(\\bar{X}-\\lambda)^2+\\bar{X})$ will converge to $\\frac{1}{n-1}\\sum_{i=1}^{n}{Y_i}=\\frac{n}{n-1}\\bar{Y}$ \n",
    "### as n goes to $\\infty$.\n",
    "### And by CLT, $\\sqrt{n}\\bar{Y}\\xrightarrow[n->\\infty]{D}N(0,2\\lambda^2)$, $\\frac{n}{n-1}\\xrightarrow{n->\\infty}1$, we would have $\\frac{n}{n-1}\\sqrt{n}\\bar{Y}\\xrightarrow[n->\\infty]{D}N(0,2\\lambda^2)$. \n",
    "### Hence, $\\sqrt{n}(s^2-\\bar{X})\\xrightarrow[n->\\infty]{D}N(0,2\\lambda^2)$\n",
    "### Because $\\bar{X}\\xrightarrow{n->\\infty}\\lambda$, $\\frac{\\sqrt{n}}{\\sqrt{2}}\\frac{s^2-\\bar{X}}{\\bar{X}}\\xrightarrow[n->\\infty]{D}N(0,2\\lambda^2*\\frac{1}{2}*\\frac{1}{\\lambda^2})=N(0,1)$"
   ]
  },
  {
   "cell_type": "markdown",
   "metadata": {},
   "source": [
    "## 2.6\n",
    "### If $E(\\bar{X})= E(s^2)$,then we calculate $P(|\\frac{\\sqrt{n}}{\\sqrt{2}}\\frac{s^2-\\bar{X}-E(s^2-\\bar{X})}{\\bar{X}}|\\leq Z_{1-\\frac{a}{2}})=a$.\n",
    "### We compare $\\frac{\\sqrt{n}}{\\sqrt{2}}\\frac{s^2-\\bar{X}}{\\bar{X}}$ with $Z_{1-\\frac{a}{2}}$, to determine whether reject $H_0$\n",
    "### If the former value is less than the z-score, we fail toreject, otherwise, we reject"
   ]
  },
  {
   "cell_type": "markdown",
   "metadata": {},
   "source": [
    "## 2.7"
   ]
  },
  {
   "cell_type": "code",
   "execution_count": 40,
   "metadata": {},
   "outputs": [],
   "source": [
    "import numpy as np\n",
    "from scipy.stats import norm"
   ]
  },
  {
   "cell_type": "code",
   "execution_count": 41,
   "metadata": {},
   "outputs": [],
   "source": [
    "def model_1(n):\n",
    "    a = np.random.poisson(5,500*50)\n",
    "    mean = np.mean(a)\n",
    "    variance = np.var(a,ddof=1)\n",
    "    return [mean, variance]"
   ]
  },
  {
   "cell_type": "code",
   "execution_count": 42,
   "metadata": {},
   "outputs": [],
   "source": [
    "def model_2(n):\n",
    "    b = []\n",
    "    for i in range(n):\n",
    "        gamma = np.random.gamma(2.5,2,1)\n",
    "        b = b + list(np.random.poisson(gamma,50))\n",
    "    mean = np.mean(np.array(b))\n",
    "    variance = np.var(np.array(b),ddof=1)\n",
    "    return [mean,variance]"
   ]
  },
  {
   "cell_type": "code",
   "execution_count": 43,
   "metadata": {},
   "outputs": [],
   "source": [
    "[mean1,var1]=model_1(500)\n",
    "[mean2,var2]=model_2(500)"
   ]
  },
  {
   "cell_type": "code",
   "execution_count": 44,
   "metadata": {},
   "outputs": [
    {
     "name": "stdout",
     "output_type": "stream",
     "text": [
      "For model 1, it is  0.028281667787889257\n",
      "For model 2, it is  30.288903569535357\n"
     ]
    },
    {
     "data": {
      "text/plain": [
       "1.959963984540054"
      ]
     },
     "execution_count": 44,
     "metadata": {},
     "output_type": "execute_result"
    }
   ],
   "source": [
    "print(\"For model 1, it is \", np.sqrt(250)*(var1-mean1)/mean1)\n",
    "print(\"For model 2, it is \", np.sqrt(250)*(var2-mean2)/mean2)\n",
    "norm.ppf(0.975)"
   ]
  },
  {
   "cell_type": "markdown",
   "metadata": {},
   "source": [
    "### From the result above, we fail to reject $H_0$ for model 1 and we reject $H_0$ for model 2 at 5% level"
   ]
  },
  {
   "cell_type": "markdown",
   "metadata": {},
   "source": [
    "## 2.8"
   ]
  },
  {
   "cell_type": "code",
   "execution_count": 85,
   "metadata": {},
   "outputs": [],
   "source": [
    "def model_3(fre):\n",
    "    data = []\n",
    "#    print(len(fre))\n",
    "    for i in range(len(fre)):\n",
    "        for j in range(fre[i]):\n",
    "#            print(fre[i])\n",
    "            data.append(i)\n",
    "    mean = np.mean(np.array(data))\n",
    "    var = np.var(np.array(data),ddof=1)\n",
    "    return [mean,var,np.array(data)]\n",
    "            "
   ]
  },
  {
   "cell_type": "code",
   "execution_count": 86,
   "metadata": {},
   "outputs": [],
   "source": [
    "fre = [1,4,15,31,39,55,54,49,47,31,16,9,8,4,3]\n",
    "[mean3,var3,data] = model_3(fre)"
   ]
  },
  {
   "cell_type": "code",
   "execution_count": 87,
   "metadata": {},
   "outputs": [
    {
     "data": {
      "text/plain": [
       "0.9786745788901424"
      ]
     },
     "execution_count": 87,
     "metadata": {},
     "output_type": "execute_result"
    }
   ],
   "source": [
    "np.sqrt(len(data)/2)*(var3-mean3)/mean3"
   ]
  },
  {
   "cell_type": "markdown",
   "metadata": {},
   "source": [
    "### the result above is smaller than 1.96, Hence we fail to reject $H_0$ at 5% level\n",
    "### Therefore, there is no overdispersions."
   ]
  }
 ],
 "metadata": {
  "kernelspec": {
   "display_name": "Python 3",
   "language": "python",
   "name": "python3"
  },
  "language_info": {
   "codemirror_mode": {
    "name": "ipython",
    "version": 3
   },
   "file_extension": ".py",
   "mimetype": "text/x-python",
   "name": "python",
   "nbconvert_exporter": "python",
   "pygments_lexer": "ipython3",
   "version": "3.7.4"
  }
 },
 "nbformat": 4,
 "nbformat_minor": 2
}
